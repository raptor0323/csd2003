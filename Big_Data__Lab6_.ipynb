{
  "cells": [
    {
      "cell_type": "markdown",
      "source": [
        "## Chaitanya Dahale\n",
        "## 202318017"
      ],
      "metadata": {
        "id": "IOh1S0M88ILA"
      }
    },
    {
      "cell_type": "markdown",
      "metadata": {
        "id": "jwJqWlt3QA3F"
      },
      "source": [
        "# PySpark setup"
      ]
    },
    {
      "cell_type": "code",
      "execution_count": null,
      "metadata": {
        "id": "QDU9WVL2jWKY",
        "colab": {
          "base_uri": "https://localhost:8080/"
        },
        "outputId": "8bb940d1-19f6-450d-8272-6ba1ebebcbb1"
      },
      "outputs": [
        {
          "output_type": "stream",
          "name": "stdout",
          "text": [
            "Collecting pyspark\n",
            "  Downloading pyspark-3.5.1.tar.gz (317.0 MB)\n",
            "\u001b[2K     \u001b[90m━━━━━━━━━━━━━━━━━━━━━━━━━━━━━━━━━━━━━━━━\u001b[0m \u001b[32m317.0/317.0 MB\u001b[0m \u001b[31m4.6 MB/s\u001b[0m eta \u001b[36m0:00:00\u001b[0m\n",
            "\u001b[?25h  Preparing metadata (setup.py) ... \u001b[?25l\u001b[?25hdone\n",
            "Requirement already satisfied: py4j==0.10.9.7 in /usr/local/lib/python3.10/dist-packages (from pyspark) (0.10.9.7)\n",
            "Building wheels for collected packages: pyspark\n",
            "  Building wheel for pyspark (setup.py) ... \u001b[?25l\u001b[?25hdone\n",
            "  Created wheel for pyspark: filename=pyspark-3.5.1-py2.py3-none-any.whl size=317488491 sha256=d4d37db8ce3164da8be49818a63ce3c53c0352325ff9a6407d83ee10844abf32\n",
            "  Stored in directory: /root/.cache/pip/wheels/80/1d/60/2c256ed38dddce2fdd93be545214a63e02fbd8d74fb0b7f3a6\n",
            "Successfully built pyspark\n",
            "Installing collected packages: pyspark\n",
            "Successfully installed pyspark-3.5.1\n"
          ]
        }
      ],
      "source": [
        "!pip install pyspark"
      ]
    },
    {
      "cell_type": "markdown",
      "metadata": {
        "id": "CMrGgO5rQECo"
      },
      "source": [
        "# Import data"
      ]
    },
    {
      "cell_type": "code",
      "execution_count": null,
      "metadata": {
        "id": "v6GUHDpSjZh_"
      },
      "outputs": [],
      "source": [
        "from sklearn.datasets import fetch_20newsgroups # importing 20 news group dataset\n",
        "\n",
        "\n",
        "categories = ['alt.atheism', 'talk.religion.misc', 'comp.graphics', 'sci.space'] #Features selected for k means\n",
        "newsgroups = fetch_20newsgroups(subset='all', categories=categories)\n"
      ]
    },
    {
      "cell_type": "markdown",
      "metadata": {
        "id": "zBdW9XbBQFz8"
      },
      "source": [
        "# Required libraries"
      ]
    },
    {
      "cell_type": "code",
      "execution_count": null,
      "metadata": {
        "id": "AdW_btxfjgc_"
      },
      "outputs": [],
      "source": [
        "from pyspark.sql import SparkSession\n",
        "from pyspark.ml.feature import CountVectorizer, IDF\n",
        "from pyspark.ml.clustering import KMeans\n",
        "from pyspark.ml.clustering import BisectingKMeans\n",
        "from pyspark.ml.feature import Tokenizer, StopWordsRemover\n",
        "import matplotlib.pyplot as plt\n",
        "import pandas as pd\n",
        "from pyspark.sql import SparkSession\n",
        "from pyspark.ml.feature import Tokenizer, StopWordsRemover, HashingTF, IDF\n",
        "from pyspark.sql.functions import col\n",
        "import numpy as np\n",
        "from scipy.cluster.hierarchy import dendrogram, linkage\n",
        "from sklearn.feature_extraction.text import TfidfVectorizer\n",
        "from pyspark.ml.linalg import Vectors\n",
        "from gensim.models import Word2Vec\n",
        "from sklearn.cluster import AgglomerativeClustering\n",
        "from sklearn.model_selection import train_test_split\n",
        "from sklearn.naive_bayes import MultinomialNB\n",
        "from sklearn.metrics import classification_report\n"
      ]
    },
    {
      "cell_type": "markdown",
      "metadata": {
        "id": "BzJ_8gb3QLDE"
      },
      "source": [
        "# 1] Performing K-means clustering and Hierarchical clustering on the dataset using PySpark."
      ]
    },
    {
      "cell_type": "code",
      "execution_count": null,
      "metadata": {
        "id": "9DKtGMHIjjAC"
      },
      "outputs": [],
      "source": [
        "spark = SparkSession.builder.appName(\"Newsgroups Clustering\") .getOrCreate()\n"
      ]
    },
    {
      "cell_type": "code",
      "execution_count": null,
      "metadata": {
        "id": "GN68loXBjv2I"
      },
      "outputs": [],
      "source": [
        "df = spark.createDataFrame([(doc,) for doc in newsgroups.data], [\"text\"])\n"
      ]
    },
    {
      "cell_type": "code",
      "execution_count": null,
      "metadata": {
        "id": "bg4P501jjz4c"
      },
      "outputs": [],
      "source": [
        "tokenizer = Tokenizer(inputCol=\"text\", outputCol=\"words\")\n",
        "wordsData = tokenizer.transform(df)\n",
        "\n",
        "remover = StopWordsRemover(inputCol=\"words\", outputCol=\"filtered\")\n",
        "filteredData = remover.transform(wordsData)\n",
        "\n",
        "cv = CountVectorizer(inputCol=\"filtered\", outputCol=\"rawFeatures\")\n",
        "cv_model = cv.fit(filteredData)\n",
        "featurizedData = cv_model.transform(filteredData)\n",
        "\n",
        "idf = IDF(inputCol=\"rawFeatures\", outputCol=\"features\")\n",
        "idfModel = idf.fit(featurizedData)\n",
        "rescaledData = idfModel.transform(featurizedData)\n"
      ]
    },
    {
      "cell_type": "code",
      "execution_count": null,
      "metadata": {
        "id": "ZDnqVXaPj1XQ"
      },
      "outputs": [],
      "source": [
        "kmeans = KMeans().setK(4).setSeed(1)\n",
        "model = kmeans.fit(rescaledData)\n",
        "clustered = model.transform(rescaledData)\n"
      ]
    },
    {
      "cell_type": "code",
      "execution_count": null,
      "metadata": {
        "id": "K4760G-Kj3SZ"
      },
      "outputs": [],
      "source": [
        "bkm = BisectingKMeans().setK(4).setSeed(1)\n",
        "model_bisecting = bkm.fit(rescaledData)\n",
        "clustered_bisecting = model_bisecting.transform(rescaledData)\n"
      ]
    },
    {
      "cell_type": "code",
      "execution_count": null,
      "metadata": {
        "id": "GQ_MvB5mj5wP"
      },
      "outputs": [],
      "source": [
        "clustered_kmeans_pd = clustered.select(\"features\", \"prediction\").toPandas()\n"
      ]
    },
    {
      "cell_type": "code",
      "execution_count": null,
      "metadata": {
        "id": "OSZ3_UTrj8mx",
        "colab": {
          "base_uri": "https://localhost:8080/",
          "height": 564
        },
        "outputId": "7bbd1e16-8e78-48a4-cc55-ba164de7aed8"
      },
      "outputs": [
        {
          "output_type": "display_data",
          "data": {
            "text/plain": [
              "<Figure size 800x600 with 1 Axes>"
            ],
            "image/png": "[encoded data removed]"
          },
          "metadata": {}
        }
      ],
      "source": [
        "plt.figure(figsize=(8, 6))\n",
        "plt.scatter(clustered_kmeans_pd['features'].apply(lambda x: x[0]),\n",
        "            clustered_kmeans_pd['features'].apply(lambda x: x[1]),\n",
        "            c=clustered_kmeans_pd['prediction'], cmap='plasma')\n",
        "plt.title('K-means Clustering')\n",
        "plt.xlabel('Feature 1')\n",
        "plt.ylabel('Feature 2')\n",
        "plt.show()\n"
      ]
    },
    {
      "cell_type": "code",
      "execution_count": null,
      "metadata": {
        "id": "abzT7HPKj-nL"
      },
      "outputs": [],
      "source": [
        "clustered_bisecting_pd = clustered_bisecting.select(\"features\", \"prediction\").toPandas()\n"
      ]
    },
    {
      "cell_type": "code",
      "execution_count": null,
      "metadata": {
        "id": "P8sTht4YkA3v",
        "colab": {
          "base_uri": "https://localhost:8080/",
          "height": 564
        },
        "outputId": "de971a51-f0e7-421a-cad6-2ad40d4b4cb3"
      },
      "outputs": [
        {
          "output_type": "display_data",
          "data": {
            "text/plain": [
              "<Figure size 800x600 with 1 Axes>"
            ],
            "image/png": "[encoded data removed]"
          },
          "metadata": {}
        }
      ],
      "source": [
        "plt.figure(figsize=(8, 6))\n",
        "plt.scatter(clustered_bisecting_pd['features'].apply(lambda x: x[0]),\n",
        "            clustered_bisecting_pd['features'].apply(lambda x: x[1]),\n",
        "            c=clustered_bisecting_pd['prediction'], cmap='viridis')\n",
        "plt.title('Hierarchical Clustering (Bisecting K-means)')\n",
        "plt.xlabel('Feature 1')\n",
        "plt.ylabel('Feature 2')\n",
        "plt.show()\n"
      ]
    },
    {
      "cell_type": "markdown",
      "source": [
        "## For Naive-Bayes"
      ],
      "metadata": {
        "id": "JaZ0M1tfoBWv"
      }
    },
    {
      "cell_type": "code",
      "source": [
        "# Data preperation\n",
        "data = newsgroups.data\n",
        "target = newsgroups.target\n",
        "\n",
        "# TF-IDF Vectorization\n",
        "tfidf_vectorizer = TfidfVectorizer(stop_words='english')\n",
        "tfidf_matrix = tfidf_vectorizer.fit_transform(data)\n",
        "\n",
        "# Split the data into training and testing sets\n",
        "X_train, X_test, y_train, y_test = train_test_split(tfidf_matrix, target, test_size=0.2, random_state=42)\n",
        "\n",
        "# Train Naive Bayes classifier\n",
        "nb_classifier = MultinomialNB()\n",
        "nb_classifier.fit(X_train, y_train)\n",
        "\n",
        "# Predictions\n",
        "nb_predictions = nb_classifier.predict(X_test)\n",
        "\n",
        "# Evaluate the classifier\n",
        "print(classification_report(y_test, nb_predictions))\n"
      ],
      "metadata": {
        "id": "cOT0JQNWo73r",
        "colab": {
          "base_uri": "https://localhost:8080/"
        },
        "outputId": "41a21538-064b-4d8e-b34d-2630af267e20"
      },
      "execution_count": null,
      "outputs": [
        {
          "output_type": "stream",
          "name": "stdout",
          "text": [
            "              precision    recall  f1-score   support\n",
            "\n",
            "           0       0.84      0.97      0.90       155\n",
            "           1       0.96      0.98      0.97       195\n",
            "           2       0.94      0.98      0.96       201\n",
            "           3       0.99      0.70      0.82       127\n",
            "\n",
            "    accuracy                           0.93       678\n",
            "   macro avg       0.93      0.91      0.91       678\n",
            "weighted avg       0.93      0.93      0.92       678\n",
            "\n"
          ]
        }
      ]
    },
    {
      "cell_type": "code",
      "execution_count": null,
      "metadata": {
        "id": "-p6y0NM9kWp-"
      },
      "outputs": [],
      "source": [
        "spark.stop()"
      ]
    },
    {
      "cell_type": "markdown",
      "metadata": {
        "id": "yxIuDjrBQUU0"
      },
      "source": [
        " # Represent each document using TfIdf matrix."
      ]
    },
    {
      "cell_type": "code",
      "execution_count": null,
      "metadata": {
        "id": "EpFGLYXusJ_z"
      },
      "outputs": [],
      "source": [
        "categories = ['alt.atheism', 'talk.religion.misc', 'comp.graphics', 'sci.space']\n",
        "newsgroups = fetch_20newsgroups(subset='all', categories=categories)\n",
        "\n",
        "newsgroups_df = pd.DataFrame({'text': newsgroups.data, 'target': newsgroups.target})\n",
        "\n",
        "newsgroups_df.to_csv('newsgroups.csv', index=False)\n",
        "\n",
        "spark = SparkSession.builder \\\n",
        "    .appName(\"20 Newsgroups Clustering\") \\\n",
        "    .getOrCreate()\n",
        "\n",
        "newsgroups_path = 'newsgroups.csv'\n",
        "newsgroups_spark_df = spark.read.csv(newsgroups_path, header=True)\n",
        "\n"
      ]
    },
    {
      "cell_type": "code",
      "execution_count": null,
      "metadata": {
        "id": "OHyp1VQAkDpA",
        "colab": {
          "base_uri": "https://localhost:8080/"
        },
        "outputId": "30741cf9-9f55-4298-c229-bb68e4d4a55e"
      },
      "outputs": [
        {
          "output_type": "stream",
          "name": "stdout",
          "text": [
            "+------------------------------------------------------------------------------------------------------+----------------------------------+---------------------------------------------------------------------------------------------------------------+-----------------------------------------------------------------------------------------------------------+-----------------------------------------------------------------------------------+-----------------------------------------------------------------------------------------------------------------------------------------------------------------------------------------------------+\n",
            "|text                                                                                                  |target                            |words                                                                                                          |filtered_words                                                                                             |rawFeatures                                                                        |tfidf_features                                                                                                                                                                                       |\n",
            "+------------------------------------------------------------------------------------------------------+----------------------------------+---------------------------------------------------------------------------------------------------------------+-----------------------------------------------------------------------------------------------------------+-----------------------------------------------------------------------------------+-----------------------------------------------------------------------------------------------------------------------------------------------------------------------------------------------------+\n",
            "|From: healta@saturn.wwc.edu (Tammy R Healy)                                                           |NULL                              |[from:, healta@saturn.wwc.edu, (tammy, r, healy)]                                                              |[from:, healta@saturn.wwc.edu, (tammy, r, healy)]                                                          |(10000,[450,1362,1480,4655,8583],[1.0,1.0,1.0,1.0,1.0])                            |(10000,[450,1362,1480,4655,8583],[7.927670019658437,7.356219774076011,3.5352805979490083,7.9070507324557004,8.08529896386202])                                                                       |\n",
            "|Subject: Re: who are we to judge                                                                      | Bobby?                           |[subject:, re:, who, are, we, to, judge]                                                                       |[subject:, re:, judge]                                                                                     |(10000,[145,5751,6243],[1.0,1.0,1.0])                                              |(10000,[145,5751,6243],[3.950717944366802,3.6486917608840015,7.671736645521236])                                                                                                                     |\n",
            "|Lines: 38                                                                                             |NULL                              |[lines:, 38]                                                                                                   |[lines:, 38]                                                                                               |(10000,[2887,6139],[1.0,1.0])                                                      |(10000,[2887,6139],[7.2555762482963235,3.6553536247688467])                                                                                                                                          |\n",
            "|Organization: Walla Walla College                                                                     |NULL                              |[organization:, walla, walla, college]                                                                         |[organization:, walla, walla, college]                                                                     |(10000,[476,8057,9385],[1.0,1.0,2.0])                                              |(10000,[476,8057,9385],[3.6968902987131345,6.729966828346096,16.21998315290478])                                                                                                                     |\n",
            "|Lines: 38                                                                                             |NULL                              |[lines:, 38]                                                                                                   |[lines:, 38]                                                                                               |(10000,[2887,6139],[1.0,1.0])                                                      |(10000,[2887,6139],[7.2555762482963235,3.6553536247688467])                                                                                                                                          |\n",
            "|In article <1993Apr14.213356.22176@ultb.isc.rit.edu> snm6394@ultb.isc.rit.edu (S.N. Mozumder ) writes:|NULL                              |[in, article, <1993apr14.213356.22176@ultb.isc.rit.edu>, snm6394@ultb.isc.rit.edu, (s.n., mozumder, ), writes:]|[article, <1993apr14.213356.22176@ultb.isc.rit.edu>, snm6394@ultb.isc.rit.edu, (s.n., mozumder, ), writes:]|(10000,[399,1629,1702,2749,4413,8529,9341],[1.0,1.0,1.0,1.0,1.0,1.0,1.0])          |(10000,[399,1629,1702,2749,4413,8529,9341],[6.931336580110745,8.431575200579854,4.103567895602761,4.154430269009762,8.08529896386202,7.721333586660608,6.774990509720051])                           |\n",
            "|>From: snm6394@ultb.isc.rit.edu (S.N. Mozumder )                                                      |NULL                              |[>from:, snm6394@ultb.isc.rit.edu, (s.n., mozumder, )]                                                         |[>from:, snm6394@ultb.isc.rit.edu, (s.n., mozumder, )]                                                     |(10000,[1629,4413,8003,8529,9341],[1.0,1.0,1.0,1.0,1.0])                           |(10000,[1629,4413,8003,8529,9341],[8.431575200579854,8.08529896386202,7.828579117014206,7.721333586660608,6.774990509720051])                                                                        |\n",
            "|>Subject: Re: who are we to judge                                                                     | Bobby?                           |[>subject:, re:, who, are, we, to, judge]                                                                      |[>subject:, re:, judge]                                                                                    |(10000,[145,6243,6570],[1.0,1.0,1.0])                                              |(10000,[145,6243,6570],[3.950717944366802,7.671736645521236,8.16128487083994])                                                                                                                       |\n",
            "|>Date: Wed                                                                                            | 14 Apr 1993 21:33:56 GMT         |[>date:, wed]                                                                                                  |[>date:, wed]                                                                                              |(10000,[2682,3848],[1.0,1.0])                                                      |(10000,[2682,3848],[6.628387035528176,7.8476273119849])                                                                                                                                              |\n",
            "|>In article <healta.56.734556346@saturn.wwc.edu> healta@saturn.wwc.edu (TAMMY R HEALY) writes:        |NULL                              |[>in, article, <healta.56.734556346@saturn.wwc.edu>, healta@saturn.wwc.edu, (tammy, r, healy), writes:]        |[>in, article, <healta.56.734556346@saturn.wwc.edu>, healta@saturn.wwc.edu, (tammy, r, healy), writes:]    |(10000,[450,722,1362,1702,2749,3655,4655,8583],[1.0,1.0,1.0,1.0,1.0,1.0,1.0,1.0])  |(10000,[450,722,1362,1702,2749,3655,4655,8583],[7.927670019658437,7.992208540796008,7.356219774076011,4.103567895602761,4.154430269009762,5.658986478340072,7.9070507324557004,8.08529896386202])    |\n",
            "|>>Bobby                                                                                               |NULL                              |[>>bobby]                                                                                                      |[>>bobby]                                                                                                  |(10000,[4379],[1.0])                                                               |(10000,[4379],[8.854432051399886])                                                                                                                                                                   |\n",
            "|>>                                                                                                    |NULL                              |[>>]                                                                                                           |[>>]                                                                                                       |(10000,[1573],[1.0])                                                               |(10000,[1573],[4.6089488598205195])                                                                                                                                                                  |\n",
            "|>>I would like to take the liberty to quote from a Christian writer named                             |NULL                              |[>>i, would, like, to, take, the, liberty, to, quote, from, a, christian, writer, named]                       |[>>i, like, take, liberty, quote, christian, writer, named]                                                |(10000,[855,965,2432,3330,3885,4536,6890,6906],[1.0,1.0,1.0,1.0,1.0,1.0,1.0,1.0])  |(10000,[855,965,2432,3330,3885,4536,6890,6906],[5.709826155119481,7.1937008445782356,8.620817200218381,4.670375084886291,5.730445442322217,7.508411589417936,6.857228607957023,8.10999157645239])    |\n",
            "|>>Ellen G. White.  I hope that what she said will help you to edit your                               |NULL                              |[>>ellen, g., white., , i, hope, that, what, she, said, will, help, you, to, edit, your]                       |[>>ellen, g., white., , hope, said, help, edit]                                                            |(10000,[2770,3372,4320,5608,6000,6877,8666,9347],[1.0,1.0,1.0,1.0,1.0,1.0,1.0,1.0])|(10000,[2770,3372,4320,5608,6000,6877,8666,9347],[7.144910680408804,1.1872737960807394,5.545042218990854,8.965657686510111,6.5465976025196975,8.037670914872765,8.187953117922103,5.837865690943054])|\n",
            "|>>remarks in this group in the future.                                                                |NULL                              |[>>remarks, in, this, group, in, the, future.]                                                                 |[>>remarks, group, future.]                                                                                |(10000,[75,7766,8547],[1.0,1.0,1.0])                                               |(10000,[75,7766,8547],[9.026282308326547,5.932402973633031,8.08529896386202])                                                                                                                        |\n",
            "|>>                                                                                                    |NULL                              |[>>]                                                                                                           |[>>]                                                                                                       |(10000,[1573],[1.0])                                                               |(10000,[1573],[4.6089488598205195])                                                                                                                                                                  |\n",
            "|>>\"\"Do not set yourself as a standard.  Do not make your opinions                                     | your views                       |[>>\"\"do, not, set, yourself, as, a, standard., , do, not, make, your, opinions]                                |[>>\"\"do, set, standard., , make, opinions]                                                                 |(10000,[1112,3372,3525,5342,6150,8241],[1.0,1.0,1.0,1.0,1.0,1.0])                  |(10000,[1112,3372,3525,5342,6150,8241],[8.540774492544845,1.1872737960807394,5.002047312291472,5.978788100213966,6.815264408857991,9.090820829464118])                                               |\n",
            "|>>of duty                                                                                             | your interpretations of scripture|[>>of, duty]                                                                                                   |[>>of, duty]                                                                                               |(10000,[2433,8753],[1.0,1.0])                                                      |(10000,[2433,8753],[6.293539494633965,7.970229634077232])                                                                                                                                            |\n",
            "|>>your heart condemn them if they do not come up to your ideal.\"\"                                     |NULL                              |[>>your, heart, condemn, them, if, they, do, not, come, up, to, your, ideal.\"\"]                                |[>>your, heart, condemn, come, ideal.\"\"]                                                                   |(10000,[1964,4287,4956,7718,9808],[1.0,1.0,1.0,1.0,1.0])                           |(10000,[1964,4287,4956,7718,9808],[5.958229373192929,7.9070507324557004,7.468137690279996,8.754348592842904,7.721333586660608])                                                                      |\n",
            "|>>                         Thoughts Fromthe Mount of Blessing p. 124                                  |NULL                              |[>>, , , , , , , , , , , , , , , , , , , , , , , , , thoughts, fromthe, mount, of, blessing, p., 124]          |[>>, , , , , , , , , , , , , , , , , , , , , , , , , thoughts, fromthe, mount, blessing, p., 124]          |(10000,[173,1573,1734,1798,3372,5309,6081,7140],[1.0,1.0,1.0,1.0,24.0,1.0,1.0,1.0])|(10000,[173,1573,1734,1798,3372,5309,6081,7140],[8.135309384436681,4.6089488598205195,7.277082453517287,7.564764525969068,28.494571105937744,8.215352092110217,8.503034164562,8.965657686510111])    |\n",
            "+------------------------------------------------------------------------------------------------------+----------------------------------+---------------------------------------------------------------------------------------------------------------+-----------------------------------------------------------------------------------------------------------+-----------------------------------------------------------------------------------+-----------------------------------------------------------------------------------------------------------------------------------------------------------------------------------------------------+\n",
            "only showing top 20 rows\n",
            "\n"
          ]
        }
      ],
      "source": [
        "filtered_df = newsgroups_spark_df.filter(col('text').isNotNull() & (col('text') != ''))\n",
        "\n",
        "tokenizer = Tokenizer(inputCol=\"text\", outputCol=\"words\")\n",
        "words_df = tokenizer.transform(filtered_df)\n",
        "\n",
        "\n",
        "remover = StopWordsRemover(inputCol=\"words\", outputCol=\"filtered_words\")\n",
        "filtered_words_df = remover.transform(words_df)\n",
        "\n",
        "hashingTF = HashingTF(inputCol=\"filtered_words\", outputCol=\"rawFeatures\", numFeatures=10000)\n",
        "tf_df = hashingTF.transform(filtered_words_df)\n",
        "\n",
        "idf = IDF(inputCol=\"rawFeatures\", outputCol=\"tfidf_features\")\n",
        "idf_model = idf.fit(tf_df)\n",
        "tfidf_df = idf_model.transform(tf_df)\n",
        "\n",
        "\n",
        "tfidf_df.show(truncate=False)\n"
      ]
    },
    {
      "cell_type": "code",
      "execution_count": null,
      "metadata": {
        "id": "zuJBVJvctQHN"
      },
      "outputs": [],
      "source": [
        "spark.stop()"
      ]
    },
    {
      "cell_type": "markdown",
      "metadata": {
        "id": "C3q8IUAZQZkj"
      },
      "source": [
        "# For each of the K-means clustering techniques use K(number of clusters) as a hyperparameter and find the WCSS for each k-value. Find the optimal number of clusters using the elbow method."
      ]
    },
    {
      "cell_type": "code",
      "execution_count": null,
      "metadata": {
        "id": "26f2moPWt6mh"
      },
      "outputs": [],
      "source": [
        "categories = ['alt.atheism', 'talk.religion.misc', 'comp.graphics', 'sci.space']\n",
        "newsgroups = fetch_20newsgroups(subset='all', categories=categories)\n",
        "\n",
        "newsgroups_df = pd.DataFrame({'text': newsgroups.data, 'target': newsgroups.target})\n",
        "\n",
        "newsgroups_df.to_csv('newsgroups.csv', index=False)\n",
        "\n",
        "spark = SparkSession.builder \\\n",
        "    .appName(\"20 Newsgroups Clustering\") \\\n",
        "    .getOrCreate()\n",
        "\n",
        "newsgroups_path = 'newsgroups.csv'\n",
        "newsgroups_spark_df = spark.read.csv(newsgroups_path, header=True)\n",
        "\n"
      ]
    },
    {
      "cell_type": "code",
      "execution_count": null,
      "metadata": {
        "id": "ErbI8YdetSli",
        "colab": {
          "base_uri": "https://localhost:8080/",
          "height": 564
        },
        "outputId": "0bdce39f-e133-40bd-cea8-d573d84a319d"
      },
      "outputs": [
        {
          "output_type": "display_data",
          "data": {
            "text/plain": [
              "<Figure size 1000x600 with 1 Axes>"
            ],
            "image/png": "[encoded data removed]"
          },
          "metadata": {}
        }
      ],
      "source": [
        "spark = SparkSession.builder \\\n",
        "    .appName(\"K-means Clustering with Elbow Method\") \\\n",
        "    .getOrCreate()\n",
        "\n",
        "newsgroups_df = spark.read.text(newsgroups_path)\n",
        "\n",
        "tokenizer = Tokenizer(inputCol=\"value\", outputCol=\"words\")\n",
        "words_df = tokenizer.transform(newsgroups_df)\n",
        "\n",
        "\n",
        "remover = StopWordsRemover(inputCol=\"words\", outputCol=\"filtered_words\")\n",
        "filtered_df = remover.transform(words_df)\n",
        "\n",
        "\n",
        "hashingTF = HashingTF(inputCol=\"filtered_words\", outputCol=\"rawFeatures\", numFeatures=10000)\n",
        "tf_df = hashingTF.transform(filtered_df)\n",
        "\n",
        "idf = IDF(inputCol=\"rawFeatures\", outputCol=\"features\")\n",
        "idf_model = idf.fit(tf_df)\n",
        "tfidf_df = idf_model.transform(tf_df)\n",
        "\n",
        "from pyspark.ml.clustering import KMeans\n",
        "import matplotlib.pyplot as plt\n",
        "\n",
        "wcss_values = []\n",
        "\n",
        "max_k = 10\n",
        "\n",
        "for k in range(2, max_k + 1):\n",
        "    kmeans = KMeans(featuresCol='features', k=k, seed=1)\n",
        "\n",
        "    kmeans_model = kmeans.fit(tfidf_df)\n",
        "\n",
        "    wcss = kmeans_model.summary.trainingCost\n",
        "\n",
        "    wcss_values.append(wcss)\n",
        "\n",
        "plt.figure(figsize=(10, 6))\n",
        "plt.plot(range(2, max_k + 1), wcss_values, marker='o', linestyle='--')\n",
        "plt.xlabel('Number of Clusters (K)')\n",
        "plt.ylabel('WCSS')\n",
        "plt.title('Elbow Method to Determine Optimal K')\n",
        "plt.xticks(range(2, max_k + 1))\n",
        "plt.grid(True)\n",
        "plt.show()\n"
      ]
    },
    {
      "cell_type": "code",
      "execution_count": null,
      "metadata": {
        "id": "8Ll5P3gYvekY"
      },
      "outputs": [],
      "source": [
        "spark.stop()"
      ]
    },
    {
      "cell_type": "markdown",
      "metadata": {
        "id": "OT32bdYlQzS6"
      },
      "source": [
        "K = 5 is optimal number for K.\n",
        "\n",
        "---\n",
        "\n"
      ]
    },
    {
      "cell_type": "markdown",
      "metadata": {
        "id": "BRMe7pl-QmIN"
      },
      "source": [
        "# Apply Agglomerative clustering for clustering the documents and find the optimal number of clusters using dendrogram diagrams."
      ]
    },
    {
      "cell_type": "code",
      "execution_count": null,
      "metadata": {
        "id": "YDgIOvNNv-JM"
      },
      "outputs": [],
      "source": [
        "\n",
        "from sklearn.datasets import fetch_20newsgroups\n",
        "from sklearn.feature_extraction.text import TfidfVectorizer\n",
        "from scipy.cluster.hierarchy import linkage, dendrogram\n",
        "import matplotlib.pyplot as plt\n",
        "import numpy as np\n",
        "\n",
        "# Load the 20 newsgroups dataset\n",
        "newsgroups = fetch_20newsgroups(subset='all')\n",
        "\n",
        "# Vectorize the text data using TF-IDF\n",
        "vectorizer = TfidfVectorizer(stop_words='english')\n",
        "tfidf_matrix = vectorizer.fit_transform(newsgroups.data)\n",
        "\n",
        "# Reduce the dimensionality of the TF-IDF matrix if needed\n",
        "# For example, you can use TruncatedSVD or PCA for dimensionality reduction\n",
        "\n",
        "# Compute pairwise distances\n",
        "distance_matrix = 1 - np.dot(tfidf_matrix, tfidf_matrix.T).toarray()\n",
        "\n",
        "# Perform hierarchical clustering\n",
        "linkage_matrix = linkage(distance_matrix, method='ward')\n",
        "\n",
        "# Plot the dendrogram\n",
        "plt.figure(figsize=(12, 8))\n",
        "dendrogram(linkage_matrix, truncate_mode='lastp', p=30)\n",
        "plt.xlabel('Sample Index')\n",
        "plt.ylabel('Distance')\n",
        "plt.title('Dendrogram for Agglomerative Clustering')\n",
        "plt.show()"
      ]
    },
    {
      "cell_type": "markdown",
      "metadata": {
        "id": "VrfZsCDBQsFp"
      },
      "source": [
        "# (Additional) Instead of TF-IDF use any semantic-based embeddings like Word2Vec or GloVe etc."
      ]
    },
    {
      "cell_type": "code",
      "execution_count": null,
      "metadata": {
        "id": "kRmEpq8r6rnI"
      },
      "outputs": [],
      "source": [
        "newsgroups = fetch_20newsgroups(subset='all')\n",
        "\n",
        "preprocessed_data = [doc.lower().split() for doc in newsgroups.data]\n",
        "\n",
        "word2vec_model = Word2Vec(preprocessed_data, vector_size=100, window=5, min_count=1, workers=4)\n",
        "\n",
        "def doc_embedding(doc, model):\n",
        "    words = [word for word in doc if word in model.wv]\n",
        "    if len(words) > 0:\n",
        "        return np.mean(model.wv[words], axis=0)\n",
        "    else:\n",
        "        return np.zeros(model.vector_size)\n",
        "\n",
        "doc_embeddings = np.array([doc_embedding(doc, word2vec_model) for doc in preprocessed_data])\n",
        "\n",
        "agg_clustering = AgglomerativeClustering(n_clusters=10, linkage='ward')\n",
        "clusters = agg_clustering.fit_predict(doc_embeddings)\n",
        "\n",
        "\n"
      ]
    },
    {
      "cell_type": "code",
      "execution_count": null,
      "metadata": {
        "id": "JA0qgtzM6ra9",
        "colab": {
          "base_uri": "https://localhost:8080/",
          "height": 492
        },
        "outputId": "4709d52d-5b8c-4689-c5db-3b745c3d7526"
      },
      "outputs": [
        {
          "output_type": "display_data",
          "data": {
            "text/plain": [
              "<Figure size 1200x800 with 1 Axes>"
            ],
            "image/png": "[encoded data removed]"
          },
          "metadata": {}
        }
      ],
      "source": [
        "linkage_matrix = linkage(doc_embeddings, method='ward')\n",
        "plt.figure(figsize=(12, 8))\n",
        "dendrogram(linkage_matrix, truncate_mode='lastp', p=30)\n",
        "plt.xlabel('Sample Index')\n",
        "plt.ylabel('Distance')\n",
        "plt.title('Dendrogram for Agglomerative Clustering')\n",
        "plt.show()"
      ]
    },
    {
      "cell_type": "code",
      "source": [
        "import torch\n",
        "from transformers import BertTokenizer, BertModel\n",
        "import numpy as np\n",
        "from sklearn.datasets import fetch_20newsgroups\n",
        "from torch.nn.utils.rnn import pad_sequence\n",
        "\n",
        "newsgroups_data = fetch_20newsgroups(subset='train', categories=['comp.graphics', 'sci.space'])\n",
        "data = newsgroups_data.data[:100]\n",
        "\n",
        "tokenizer = BertTokenizer.from_pretrained('bert-base-uncased')\n",
        "model = BertModel.from_pretrained('bert-base-uncased')\n",
        "\n",
        "data = list(data)\n",
        "\n",
        "batch_size = 5\n",
        "bert_embeddings = []\n",
        "\n",
        "for i in range(0, len(data), batch_size):\n",
        "    batch_data = data[i:i + batch_size]\n",
        "    tokenized_data = [tokenizer.encode(doc, add_special_tokens=True, max_length=512, truncation=True) for doc in batch_data]\n",
        "\n",
        "    padded_data = pad_sequence([torch.tensor(doc) for doc in tokenized_data], batch_first=True)\n",
        "\n",
        "    input_ids = padded_data\n",
        "    attention_mask = (input_ids != 0).type(torch.FloatTensor)\n",
        "\n",
        "    with torch.no_grad():\n",
        "        outputs = model(input_ids, attention_mask=attention_mask)\n",
        "        batch_embeddings = outputs[0][:, 0, :].numpy()\n",
        "\n",
        "    bert_embeddings.append(batch_embeddings)\n",
        "\n",
        "bert_embeddings = np.concatenate(bert_embeddings, axis=0)\n",
        "\n"
      ],
      "metadata": {
        "id": "ZstMP9Nhva__",
        "colab": {
          "base_uri": "https://localhost:8080/",
          "height": 296,
          "referenced_widgets": [
            "b5e06568c6ac4b11b8bef63e70a48bca",
            "b34755225c464bb4bd2c492a2cb9d63b",
            "6c215a0cf56b477b8d5cd8906c14d793",
            "ce78a32935bf4e38a333c1109e93d833",
            "e498ed9054be4695aa28c2cdda065cda",
            "eb65616817ae4829bb20c4a8a8ef81a1",
            "30e4d6b38fbc40369b5af3a7630efca4",
            "23f4a9f45a21445b8fbac9498b2ed9ed",
            "501c31f9547b4d60a4c0eecc324d4e76",
            "1ba404d464394c959665dbe068e0269c",
            "0b6f0c35b9ea4ef9b2f1bc1dc557ae9e",
            "962d1077078449d3bf72efaecca2ceda",
            "3afb9eab2b3e4ab7b125f6868c30cbc6",
            "0e6d302bb1864525871756a206bb82a1",
            "cc757627d0914d6da01d9ae3e87479c6",
            "82dddec4a1aa4a9a9bc77795f082130e",
            "870d28ffa4564cb7a6b67aecae6503c1",
            "96ca6bdd446940a39705bde5c0fdad47",
            "26e2531a0fdf4f3496150f2854d1d0c2",
            "e7e0eaadf86943f8b744127ea4b9e72f",
            "889dc626a4ff4e7381550d9abfe42430",
            "4fb85f9e19c542a18111ebc838340531",
            "0604c330bf1d40b897f54680ec38677d",
            "22bd037d1e264dbf83a210a59311601e",
            "6c55d2b836324a23bfe3bcbae89ce8e8",
            "537542fc0fc54dce97f645082c20ff99",
            "da915d286a37424aba43ca86a4554ca3",
            "eb8ef73b7ff94ff7877beb438ef94b14",
            "b2e871c8b40c4ed3a9101d9dc4337ebf",
            "b2c06a96aa6e4982a030018c53eeca1f",
            "0b60e97597e4494e8aa2d73b904501f7",
            "88f12f7da5b542aabe92af87a9acb3d3",
            "5afbcb1607794028b9162d7164824ef7",
            "67ac97257b4142d880c42fc4060888c9",
            "63bbc0a1d66441eaaf591ebcacdf87fe",
            "6257df0f210543aaa784e242de82f47b",
            "39421d698c4e42e88119b9da229f3fde",
            "7af093b9398f416886c0d482409b339c",
            "b8c9efacdbef4936a14fefd01ab795d8",
            "1d4faf96ddd341d5b47d327742d10070",
            "b8177bddbdf34520947d4e35c3bf2edf",
            "3dcf6c126f424f3da85d0a783160ac2a",
            "5750a2fe30c846c8b3b6f529755abf6b",
            "da0eddd1fe4d4277b0fba1f0c86fc17d",
            "97e305b0af544ec39549ad17858f27b5",
            "55e5367df5764151957b545c1211ea17",
            "d0c577c09f3d442195e98424269a98b0",
            "8199ae2c35f5499fbc1c00a95dc7451e",
            "5c09676860ef46e6a3ffe3f868d57908",
            "99355ab573a2407aa4b765adc724b788",
            "45c0abacde0b420ba1b3c18bf2bfce81",
            "7e36295a2df04066b4a373f9f1191128",
            "b222841728d045588b71ba374e779aa8",
            "0fc7741d6c774303981cf11638a01d3e",
            "14739690ded54f6a901b93246c0c0ef4"
          ]
        },
        "outputId": "c766f40f-0fbe-4b76-c2bd-a90afd14d386"
      },
      "execution_count": null,
      "outputs": [
        {
          "output_type": "stream",
          "name": "stderr",
          "text": [
            "/usr/local/lib/python3.10/dist-packages/huggingface_hub/utils/_token.py:88: UserWarning: \n",
            "The secret `HF_TOKEN` does not exist in your Colab secrets.\n",
            "To authenticate with the Hugging Face Hub, create a token in your settings tab (https://huggingface.co/settings/tokens), set it as secret in your Google Colab and restart your session.\n",
            "You will be able to reuse this secret in all of your notebooks.\n",
            "Please note that authentication is recommended but still optional to access public models or datasets.\n",
            "  warnings.warn(\n"
          ]
        },
        {
          "output_type": "display_data",
          "data": {
            "text/plain": [
              "tokenizer_config.json:   0%|          | 0.00/48.0 [00:00<?, ?B/s]"
            ],
            "application/vnd.jupyter.widget-view+json": {
              "version_major": 2,
              "version_minor": 0,
              "model_id": "b5e06568c6ac4b11b8bef63e70a48bca"
            }
          },
          "metadata": {}
        },
        {
          "output_type": "display_data",
          "data": {
            "text/plain": [
              "vocab.txt:   0%|          | 0.00/232k [00:00<?, ?B/s]"
            ],
            "application/vnd.jupyter.widget-view+json": {
              "version_major": 2,
              "version_minor": 0,
              "model_id": "962d1077078449d3bf72efaecca2ceda"
            }
          },
          "metadata": {}
        },
        {
          "output_type": "display_data",
          "data": {
            "text/plain": [
              "tokenizer.json:   0%|          | 0.00/466k [00:00<?, ?B/s]"
            ],
            "application/vnd.jupyter.widget-view+json": {
              "version_major": 2,
              "version_minor": 0,
              "model_id": "0604c330bf1d40b897f54680ec38677d"
            }
          },
          "metadata": {}
        },
        {
          "output_type": "display_data",
          "data": {
            "text/plain": [
              "config.json:   0%|          | 0.00/570 [00:00<?, ?B/s]"
            ],
            "application/vnd.jupyter.widget-view+json": {
              "version_major": 2,
              "version_minor": 0,
              "model_id": "67ac97257b4142d880c42fc4060888c9"
            }
          },
          "metadata": {}
        },
        {
          "output_type": "display_data",
          "data": {
            "text/plain": [
              "model.safetensors:   0%|          | 0.00/440M [00:00<?, ?B/s]"
            ],
            "application/vnd.jupyter.widget-view+json": {
              "version_major": 2,
              "version_minor": 0,
              "model_id": "97e305b0af544ec39549ad17858f27b5"
            }
          },
          "metadata": {}
        }
      ]
    },
    {
      "cell_type": "code",
      "source": [
        "from sklearn.cluster import KMeans\n",
        "import matplotlib.pyplot as plt\n",
        "\n",
        "\n",
        "kmeans = KMeans(n_clusters=4, random_state=42)\n",
        "cluster_labels = kmeans.fit_predict(bert_embeddings)\n",
        "\n",
        "plt.figure(figsize=(10, 8))\n",
        "plt.scatter(bert_embeddings[:, 0], bert_embeddings[:, 1], c=cluster_labels, cmap='viridis')\n",
        "plt.colorbar(label='Cluster')\n",
        "plt.title('BERT Embeddings Clustering')\n",
        "plt.xlabel('Dimension 1')\n",
        "plt.ylabel('Dimension 2')\n",
        "plt.show()\n"
      ],
      "metadata": {
        "id": "E6Sz75X3Ykue",
        "colab": {
          "base_uri": "https://localhost:8080/",
          "height": 772
        },
        "outputId": "0a1524dd-1219-435c-9701-25e5dacc74a7"
      },
      "execution_count": null,
      "outputs": [
        {
          "output_type": "stream",
          "name": "stderr",
          "text": [
            "/usr/local/lib/python3.10/dist-packages/sklearn/cluster/_kmeans.py:870: FutureWarning: The default value of `n_init` will change from 10 to 'auto' in 1.4. Set the value of `n_init` explicitly to suppress the warning\n",
            "  warnings.warn(\n"
          ]
        },
        {
          "output_type": "display_data",
          "data": {
            "text/plain": [
              "<Figure size 1000x800 with 2 Axes>"
            ],
            "image/png": "[encoded data removed]"
          },
          "metadata": {}
        }
      ]
    },
    {
      "cell_type": "code",
      "source": [
        "from sklearn.datasets import fetch_20newsgroups\n",
        "from gensim.models import Word2Vec\n",
        "import numpy as np\n",
        "import matplotlib.pyplot as plt\n",
        "\n",
        "newsgroups_data = fetch_20newsgroups(subset='all', remove=('headers', 'footers', 'quotes'))\n",
        "documents = newsgroups_data.data\n",
        "\n",
        "tokenized_docs = [doc.split() for doc in documents]\n",
        "\n",
        "word2vec_model = Word2Vec(tokenized_docs, vector_size=100, window=5, min_count=1, sg=0)\n",
        "word2vec_model.train(tokenized_docs, total_examples=len(tokenized_docs), epochs=10)\n",
        "\n",
        "doc_embeddings_word2vec = np.array([np.mean([word2vec_model.wv[word] for word in doc if word in word2vec_model.wv]\n",
        "                                             or [np.zeros(word2vec_model.vector_size)], axis=0)\n",
        "                                    for doc in tokenized_docs])\n",
        "\n",
        "target = newsgroups_data.target\n",
        "\n",
        "x_coords = doc_embeddings_word2vec[:, 0]\n",
        "y_coords = doc_embeddings_word2vec[:, 1]\n",
        "\n",
        "plt.figure(figsize=(10, 8))\n",
        "plt.scatter(x_coords, y_coords, c=target, cmap='viridis')  # Using target labels for color mapping\n",
        "plt.colorbar(label='Target')\n",
        "plt.title('Word2Vec Embeddings Visualization for 20 Newsgroups')\n",
        "plt.xlabel('Dimension 1')\n",
        "plt.ylabel('Dimension 2')\n",
        "plt.show()\n"
      ],
      "metadata": {
        "id": "XtaFmu8vYpLp",
        "colab": {
          "base_uri": "https://localhost:8080/",
          "height": 755
        },
        "outputId": "db8dbf58-2099-4383-d280-c8c4b284b0ec"
      },
      "execution_count": null,
      "outputs": [
        {
          "output_type": "stream",
          "name": "stderr",
          "text": [
            "WARNING:gensim.models.word2vec:Effective 'alpha' higher than previous training cycles\n"
          ]
        },
        {
          "output_type": "display_data",
          "data": {
            "text/plain": [
              "<Figure size 1000x800 with 2 Axes>"
            ],
            "image/png": "[encoded data removed]"
          },
          "metadata": {}
        }
      ]
    }
  ],
  "metadata": {
    "colab": {
      "provenance": []
    },
    "kernelspec": {
      "display_name": "Python 3",
      "name": "python3"
    },
    "language_info": {
      "name": "python"
    },
    "widgets": {
      "application/vnd.jupyter.widget-state+json": {
        "b5e06568c6ac4b11b8bef63e70a48bca": {
          "model_module": "@jupyter-widgets/controls",
          "model_name": "HBoxModel",
          "model_module_version": "1.5.0",
          "state": {
            "_dom_classes": [],
            "_model_module": "@jupyter-widgets/controls",
            "_model_module_version": "1.5.0",
            "_model_name": "HBoxModel",
            "_view_count": null,
            "_view_module": "@jupyter-widgets/controls",
            "_view_module_version": "1.5.0",
            "_view_name": "HBoxView",
            "box_style": "",
            "children": [
              "IPY_MODEL_b34755225c464bb4bd2c492a2cb9d63b",
              "IPY_MODEL_6c215a0cf56b477b8d5cd8906c14d793",
              "IPY_MODEL_ce78a32935bf4e38a333c1109e93d833"
            ],
            "layout": "IPY_MODEL_e498ed9054be4695aa28c2cdda065cda"
          }
        },
        "b34755225c464bb4bd2c492a2cb9d63b": {
          "model_module": "@jupyter-widgets/controls",
          "model_name": "HTMLModel",
          "model_module_version": "1.5.0",
          "state": {
            "_dom_classes": [],
            "_model_module": "@jupyter-widgets/controls",
            "_model_module_version": "1.5.0",
            "_model_name": "HTMLModel",
            "_view_count": null,
            "_view_module": "@jupyter-widgets/controls",
            "_view_module_version": "1.5.0",
            "_view_name": "HTMLView",
            "description": "",
            "description_tooltip": null,
            "layout": "IPY_MODEL_eb65616817ae4829bb20c4a8a8ef81a1",
            "placeholder": "​",
            "style": "IPY_MODEL_30e4d6b38fbc40369b5af3a7630efca4",
            "value": "tokenizer_config.json: 100%"
          }
        },
        "6c215a0cf56b477b8d5cd8906c14d793": {
          "model_module": "@jupyter-widgets/controls",
          "model_name": "FloatProgressModel",
          "model_module_version": "1.5.0",
          "state": {
            "_dom_classes": [],
            "_model_module": "@jupyter-widgets/controls",
            "_model_module_version": "1.5.0",
            "_model_name": "FloatProgressModel",
            "_view_count": null,
            "_view_module": "@jupyter-widgets/controls",
            "_view_module_version": "1.5.0",
            "_view_name": "ProgressView",
            "bar_style": "success",
            "description": "",
            "description_tooltip": null,
            "layout": "IPY_MODEL_23f4a9f45a21445b8fbac9498b2ed9ed",
            "max": 48,
            "min": 0,
            "orientation": "horizontal",
            "style": "IPY_MODEL_501c31f9547b4d60a4c0eecc324d4e76",
            "value": 48
          }
        },
        "ce78a32935bf4e38a333c1109e93d833": {
          "model_module": "@jupyter-widgets/controls",
          "model_name": "HTMLModel",
          "model_module_version": "1.5.0",
          "state": {
            "_dom_classes": [],
            "_model_module": "@jupyter-widgets/controls",
            "_model_module_version": "1.5.0",
            "_model_name": "HTMLModel",
            "_view_count": null,
            "_view_module": "@jupyter-widgets/controls",
            "_view_module_version": "1.5.0",
            "_view_name": "HTMLView",
            "description": "",
            "description_tooltip": null,
            "layout": "IPY_MODEL_1ba404d464394c959665dbe068e0269c",
            "placeholder": "​",
            "style": "IPY_MODEL_0b6f0c35b9ea4ef9b2f1bc1dc557ae9e",
            "value": " 48.0/48.0 [00:00&lt;00:00, 500B/s]"
          }
        },
        "e498ed9054be4695aa28c2cdda065cda": {
          "model_module": "@jupyter-widgets/base",
          "model_name": "LayoutModel",
          "model_module_version": "1.2.0",
          "state": {
            "_model_module": "@jupyter-widgets/base",
            "_model_module_version": "1.2.0",
            "_model_name": "LayoutModel",
            "_view_count": null,
            "_view_module": "@jupyter-widgets/base",
            "_view_module_version": "1.2.0",
            "_view_name": "LayoutView",
            "align_content": null,
            "align_items": null,
            "align_self": null,
            "border": null,
            "bottom": null,
            "display": null,
            "flex": null,
            "flex_flow": null,
            "grid_area": null,
            "grid_auto_columns": null,
            "grid_auto_flow": null,
            "grid_auto_rows": null,
            "grid_column": null,
            "grid_gap": null,
            "grid_row": null,
            "grid_template_areas": null,
            "grid_template_columns": null,
            "grid_template_rows": null,
            "height": null,
            "justify_content": null,
            "justify_items": null,
            "left": null,
            "margin": null,
            "max_height": null,
            "max_width": null,
            "min_height": null,
            "min_width": null,
            "object_fit": null,
            "object_position": null,
            "order": null,
            "overflow": null,
            "overflow_x": null,
            "overflow_y": null,
            "padding": null,
            "right": null,
            "top": null,
            "visibility": null,
            "width": null
          }
        },
        "eb65616817ae4829bb20c4a8a8ef81a1": {
          "model_module": "@jupyter-widgets/base",
          "model_name": "LayoutModel",
          "model_module_version": "1.2.0",
          "state": {
            "_model_module": "@jupyter-widgets/base",
            "_model_module_version": "1.2.0",
            "_model_name": "LayoutModel",
            "_view_count": null,
            "_view_module": "@jupyter-widgets/base",
            "_view_module_version": "1.2.0",
            "_view_name": "LayoutView",
            "align_content": null,
            "align_items": null,
            "align_self": null,
            "border": null,
            "bottom": null,
            "display": null,
            "flex": null,
            "flex_flow": null,
            "grid_area": null,
            "grid_auto_columns": null,
            "grid_auto_flow": null,
            "grid_auto_rows": null,
            "grid_column": null,
            "grid_gap": null,
            "grid_row": null,
            "grid_template_areas": null,
            "grid_template_columns": null,
            "grid_template_rows": null,
            "height": null,
            "justify_content": null,
            "justify_items": null,
            "left": null,
            "margin": null,
            "max_height": null,
            "max_width": null,
            "min_height": null,
            "min_width": null,
            "object_fit": null,
            "object_position": null,
            "order": null,
            "overflow": null,
            "overflow_x": null,
            "overflow_y": null,
            "padding": null,
            "right": null,
            "top": null,
            "visibility": null,
            "width": null
          }
        },
        "30e4d6b38fbc40369b5af3a7630efca4": {
          "model_module": "@jupyter-widgets/controls",
          "model_name": "DescriptionStyleModel",
          "model_module_version": "1.5.0",
          "state": {
            "_model_module": "@jupyter-widgets/controls",
            "_model_module_version": "1.5.0",
            "_model_name": "DescriptionStyleModel",
            "_view_count": null,
            "_view_module": "@jupyter-widgets/base",
            "_view_module_version": "1.2.0",
            "_view_name": "StyleView",
            "description_width": ""
          }
        },
        "23f4a9f45a21445b8fbac9498b2ed9ed": {
          "model_module": "@jupyter-widgets/base",
          "model_name": "LayoutModel",
          "model_module_version": "1.2.0",
          "state": {
            "_model_module": "@jupyter-widgets/base",
            "_model_module_version": "1.2.0",
            "_model_name": "LayoutModel",
            "_view_count": null,
            "_view_module": "@jupyter-widgets/base",
            "_view_module_version": "1.2.0",
            "_view_name": "LayoutView",
            "align_content": null,
            "align_items": null,
            "align_self": null,
            "border": null,
            "bottom": null,
            "display": null,
            "flex": null,
            "flex_flow": null,
            "grid_area": null,
            "grid_auto_columns": null,
            "grid_auto_flow": null,
            "grid_auto_rows": null,
            "grid_column": null,
            "grid_gap": null,
            "grid_row": null,
            "grid_template_areas": null,
            "grid_template_columns": null,
            "grid_template_rows": null,
            "height": null,
            "justify_content": null,
            "justify_items": null,
            "left": null,
            "margin": null,
            "max_height": null,
            "max_width": null,
            "min_height": null,
            "min_width": null,
            "object_fit": null,
            "object_position": null,
            "order": null,
            "overflow": null,
            "overflow_x": null,
            "overflow_y": null,
            "padding": null,
            "right": null,
            "top": null,
            "visibility": null,
            "width": null
          }
        },
        "501c31f9547b4d60a4c0eecc324d4e76": {
          "model_module": "@jupyter-widgets/controls",
          "model_name": "ProgressStyleModel",
          "model_module_version": "1.5.0",
          "state": {
            "_model_module": "@jupyter-widgets/controls",
            "_model_module_version": "1.5.0",
            "_model_name": "ProgressStyleModel",
            "_view_count": null,
            "_view_module": "@jupyter-widgets/base",
            "_view_module_version": "1.2.0",
            "_view_name": "StyleView",
            "bar_color": null,
            "description_width": ""
          }
        },
        "1ba404d464394c959665dbe068e0269c": {
          "model_module": "@jupyter-widgets/base",
          "model_name": "LayoutModel",
          "model_module_version": "1.2.0",
          "state": {
            "_model_module": "@jupyter-widgets/base",
            "_model_module_version": "1.2.0",
            "_model_name": "LayoutModel",
            "_view_count": null,
            "_view_module": "@jupyter-widgets/base",
            "_view_module_version": "1.2.0",
            "_view_name": "LayoutView",
            "align_content": null,
            "align_items": null,
            "align_self": null,
            "border": null,
            "bottom": null,
            "display": null,
            "flex": null,
            "flex_flow": null,
            "grid_area": null,
            "grid_auto_columns": null,
            "grid_auto_flow": null,
            "grid_auto_rows": null,
            "grid_column": null,
            "grid_gap": null,
            "grid_row": null,
            "grid_template_areas": null,
            "grid_template_columns": null,
            "grid_template_rows": null,
            "height": null,
            "justify_content": null,
            "justify_items": null,
            "left": null,
            "margin": null,
            "max_height": null,
            "max_width": null,
            "min_height": null,
            "min_width": null,
            "object_fit": null,
            "object_position": null,
            "order": null,
            "overflow": null,
            "overflow_x": null,
            "overflow_y": null,
            "padding": null,
            "right": null,
            "top": null,
            "visibility": null,
            "width": null
          }
        },
        "0b6f0c35b9ea4ef9b2f1bc1dc557ae9e": {
          "model_module": "@jupyter-widgets/controls",
          "model_name": "DescriptionStyleModel",
          "model_module_version": "1.5.0",
          "state": {
            "_model_module": "@jupyter-widgets/controls",
            "_model_module_version": "1.5.0",
            "_model_name": "DescriptionStyleModel",
            "_view_count": null,
            "_view_module": "@jupyter-widgets/base",
            "_view_module_version": "1.2.0",
            "_view_name": "StyleView",
            "description_width": ""
          }
        },
        "962d1077078449d3bf72efaecca2ceda": {
          "model_module": "@jupyter-widgets/controls",
          "model_name": "HBoxModel",
          "model_module_version": "1.5.0",
          "state": {
            "_dom_classes": [],
            "_model_module": "@jupyter-widgets/controls",
            "_model_module_version": "1.5.0",
            "_model_name": "HBoxModel",
            "_view_count": null,
            "_view_module": "@jupyter-widgets/controls",
            "_view_module_version": "1.5.0",
            "_view_name": "HBoxView",
            "box_style": "",
            "children": [
              "IPY_MODEL_3afb9eab2b3e4ab7b125f6868c30cbc6",
              "IPY_MODEL_0e6d302bb1864525871756a206bb82a1",
              "IPY_MODEL_cc757627d0914d6da01d9ae3e87479c6"
            ],
            "layout": "IPY_MODEL_82dddec4a1aa4a9a9bc77795f082130e"
          }
        },
        "3afb9eab2b3e4ab7b125f6868c30cbc6": {
          "model_module": "@jupyter-widgets/controls",
          "model_name": "HTMLModel",
          "model_module_version": "1.5.0",
          "state": {
            "_dom_classes": [],
            "_model_module": "@jupyter-widgets/controls",
            "_model_module_version": "1.5.0",
            "_model_name": "HTMLModel",
            "_view_count": null,
            "_view_module": "@jupyter-widgets/controls",
            "_view_module_version": "1.5.0",
            "_view_name": "HTMLView",
            "description": "",
            "description_tooltip": null,
            "layout": "IPY_MODEL_870d28ffa4564cb7a6b67aecae6503c1",
            "placeholder": "​",
            "style": "IPY_MODEL_96ca6bdd446940a39705bde5c0fdad47",
            "value": "vocab.txt: 100%"
          }
        },
        "0e6d302bb1864525871756a206bb82a1": {
          "model_module": "@jupyter-widgets/controls",
          "model_name": "FloatProgressModel",
          "model_module_version": "1.5.0",
          "state": {
            "_dom_classes": [],
            "_model_module": "@jupyter-widgets/controls",
            "_model_module_version": "1.5.0",
            "_model_name": "FloatProgressModel",
            "_view_count": null,
            "_view_module": "@jupyter-widgets/controls",
            "_view_module_version": "1.5.0",
            "_view_name": "ProgressView",
            "bar_style": "success",
            "description": "",
            "description_tooltip": null,
            "layout": "IPY_MODEL_26e2531a0fdf4f3496150f2854d1d0c2",
            "max": 231508,
            "min": 0,
            "orientation": "horizontal",
            "style": "IPY_MODEL_e7e0eaadf86943f8b744127ea4b9e72f",
            "value": 231508
          }
        },
        "cc757627d0914d6da01d9ae3e87479c6": {
          "model_module": "@jupyter-widgets/controls",
          "model_name": "HTMLModel",
          "model_module_version": "1.5.0",
          "state": {
            "_dom_classes": [],
            "_model_module": "@jupyter-widgets/controls",
            "_model_module_version": "1.5.0",
            "_model_name": "HTMLModel",
            "_view_count": null,
            "_view_module": "@jupyter-widgets/controls",
            "_view_module_version": "1.5.0",
            "_view_name": "HTMLView",
            "description": "",
            "description_tooltip": null,
            "layout": "IPY_MODEL_889dc626a4ff4e7381550d9abfe42430",
            "placeholder": "​",
            "style": "IPY_MODEL_4fb85f9e19c542a18111ebc838340531",
            "value": " 232k/232k [00:00&lt;00:00, 1.42MB/s]"
          }
        },
        "82dddec4a1aa4a9a9bc77795f082130e": {
          "model_module": "@jupyter-widgets/base",
          "model_name": "LayoutModel",
          "model_module_version": "1.2.0",
          "state": {
            "_model_module": "@jupyter-widgets/base",
            "_model_module_version": "1.2.0",
            "_model_name": "LayoutModel",
            "_view_count": null,
            "_view_module": "@jupyter-widgets/base",
            "_view_module_version": "1.2.0",
            "_view_name": "LayoutView",
            "align_content": null,
            "align_items": null,
            "align_self": null,
            "border": null,
            "bottom": null,
            "display": null,
            "flex": null,
            "flex_flow": null,
            "grid_area": null,
            "grid_auto_columns": null,
            "grid_auto_flow": null,
            "grid_auto_rows": null,
            "grid_column": null,
            "grid_gap": null,
            "grid_row": null,
            "grid_template_areas": null,
            "grid_template_columns": null,
            "grid_template_rows": null,
            "height": null,
            "justify_content": null,
            "justify_items": null,
            "left": null,
            "margin": null,
            "max_height": null,
            "max_width": null,
            "min_height": null,
            "min_width": null,
            "object_fit": null,
            "object_position": null,
            "order": null,
            "overflow": null,
            "overflow_x": null,
            "overflow_y": null,
            "padding": null,
            "right": null,
            "top": null,
            "visibility": null,
            "width": null
          }
        },
        "870d28ffa4564cb7a6b67aecae6503c1": {
          "model_module": "@jupyter-widgets/base",
          "model_name": "LayoutModel",
          "model_module_version": "1.2.0",
          "state": {
            "_model_module": "@jupyter-widgets/base",
            "_model_module_version": "1.2.0",
            "_model_name": "LayoutModel",
            "_view_count": null,
            "_view_module": "@jupyter-widgets/base",
            "_view_module_version": "1.2.0",
            "_view_name": "LayoutView",
            "align_content": null,
            "align_items": null,
            "align_self": null,
            "border": null,
            "bottom": null,
            "display": null,
            "flex": null,
            "flex_flow": null,
            "grid_area": null,
            "grid_auto_columns": null,
            "grid_auto_flow": null,
            "grid_auto_rows": null,
            "grid_column": null,
            "grid_gap": null,
            "grid_row": null,
            "grid_template_areas": null,
            "grid_template_columns": null,
            "grid_template_rows": null,
            "height": null,
            "justify_content": null,
            "justify_items": null,
            "left": null,
            "margin": null,
            "max_height": null,
            "max_width": null,
            "min_height": null,
            "min_width": null,
            "object_fit": null,
            "object_position": null,
            "order": null,
            "overflow": null,
            "overflow_x": null,
            "overflow_y": null,
            "padding": null,
            "right": null,
            "top": null,
            "visibility": null,
            "width": null
          }
        },
        "96ca6bdd446940a39705bde5c0fdad47": {
          "model_module": "@jupyter-widgets/controls",
          "model_name": "DescriptionStyleModel",
          "model_module_version": "1.5.0",
          "state": {
            "_model_module": "@jupyter-widgets/controls",
            "_model_module_version": "1.5.0",
            "_model_name": "DescriptionStyleModel",
            "_view_count": null,
            "_view_module": "@jupyter-widgets/base",
            "_view_module_version": "1.2.0",
            "_view_name": "StyleView",
            "description_width": ""
          }
        },
        "26e2531a0fdf4f3496150f2854d1d0c2": {
          "model_module": "@jupyter-widgets/base",
          "model_name": "LayoutModel",
          "model_module_version": "1.2.0",
          "state": {
            "_model_module": "@jupyter-widgets/base",
            "_model_module_version": "1.2.0",
            "_model_name": "LayoutModel",
            "_view_count": null,
            "_view_module": "@jupyter-widgets/base",
            "_view_module_version": "1.2.0",
            "_view_name": "LayoutView",
            "align_content": null,
            "align_items": null,
            "align_self": null,
            "border": null,
            "bottom": null,
            "display": null,
            "flex": null,
            "flex_flow": null,
            "grid_area": null,
            "grid_auto_columns": null,
            "grid_auto_flow": null,
            "grid_auto_rows": null,
            "grid_column": null,
            "grid_gap": null,
            "grid_row": null,
            "grid_template_areas": null,
            "grid_template_columns": null,
            "grid_template_rows": null,
            "height": null,
            "justify_content": null,
            "justify_items": null,
            "left": null,
            "margin": null,
            "max_height": null,
            "max_width": null,
            "min_height": null,
            "min_width": null,
            "object_fit": null,
            "object_position": null,
            "order": null,
            "overflow": null,
            "overflow_x": null,
            "overflow_y": null,
            "padding": null,
            "right": null,
            "top": null,
            "visibility": null,
            "width": null
          }
        },
        "e7e0eaadf86943f8b744127ea4b9e72f": {
          "model_module": "@jupyter-widgets/controls",
          "model_name": "ProgressStyleModel",
          "model_module_version": "1.5.0",
          "state": {
            "_model_module": "@jupyter-widgets/controls",
            "_model_module_version": "1.5.0",
            "_model_name": "ProgressStyleModel",
            "_view_count": null,
            "_view_module": "@jupyter-widgets/base",
            "_view_module_version": "1.2.0",
            "_view_name": "StyleView",
            "bar_color": null,
            "description_width": ""
          }
        },
        "889dc626a4ff4e7381550d9abfe42430": {
          "model_module": "@jupyter-widgets/base",
          "model_name": "LayoutModel",
          "model_module_version": "1.2.0",
          "state": {
            "_model_module": "@jupyter-widgets/base",
            "_model_module_version": "1.2.0",
            "_model_name": "LayoutModel",
            "_view_count": null,
            "_view_module": "@jupyter-widgets/base",
            "_view_module_version": "1.2.0",
            "_view_name": "LayoutView",
            "align_content": null,
            "align_items": null,
            "align_self": null,
            "border": null,
            "bottom": null,
            "display": null,
            "flex": null,
            "flex_flow": null,
            "grid_area": null,
            "grid_auto_columns": null,
            "grid_auto_flow": null,
            "grid_auto_rows": null,
            "grid_column": null,
            "grid_gap": null,
            "grid_row": null,
            "grid_template_areas": null,
            "grid_template_columns": null,
            "grid_template_rows": null,
            "height": null,
            "justify_content": null,
            "justify_items": null,
            "left": null,
            "margin": null,
            "max_height": null,
            "max_width": null,
            "min_height": null,
            "min_width": null,
            "object_fit": null,
            "object_position": null,
            "order": null,
            "overflow": null,
            "overflow_x": null,
            "overflow_y": null,
            "padding": null,
            "right": null,
            "top": null,
            "visibility": null,
            "width": null
          }
        },
        "4fb85f9e19c542a18111ebc838340531": {
          "model_module": "@jupyter-widgets/controls",
          "model_name": "DescriptionStyleModel",
          "model_module_version": "1.5.0",
          "state": {
            "_model_module": "@jupyter-widgets/controls",
            "_model_module_version": "1.5.0",
            "_model_name": "DescriptionStyleModel",
            "_view_count": null,
            "_view_module": "@jupyter-widgets/base",
            "_view_module_version": "1.2.0",
            "_view_name": "StyleView",
            "description_width": ""
          }
        },
        "0604c330bf1d40b897f54680ec38677d": {
          "model_module": "@jupyter-widgets/controls",
          "model_name": "HBoxModel",
          "model_module_version": "1.5.0",
          "state": {
            "_dom_classes": [],
            "_model_module": "@jupyter-widgets/controls",
            "_model_module_version": "1.5.0",
            "_model_name": "HBoxModel",
            "_view_count": null,
            "_view_module": "@jupyter-widgets/controls",
            "_view_module_version": "1.5.0",
            "_view_name": "HBoxView",
            "box_style": "",
            "children": [
              "IPY_MODEL_22bd037d1e264dbf83a210a59311601e",
              "IPY_MODEL_6c55d2b836324a23bfe3bcbae89ce8e8",
              "IPY_MODEL_537542fc0fc54dce97f645082c20ff99"
            ],
            "layout": "IPY_MODEL_da915d286a37424aba43ca86a4554ca3"
          }
        },
        "22bd037d1e264dbf83a210a59311601e": {
          "model_module": "@jupyter-widgets/controls",
          "model_name": "HTMLModel",
          "model_module_version": "1.5.0",
          "state": {
            "_dom_classes": [],
            "_model_module": "@jupyter-widgets/controls",
            "_model_module_version": "1.5.0",
            "_model_name": "HTMLModel",
            "_view_count": null,
            "_view_module": "@jupyter-widgets/controls",
            "_view_module_version": "1.5.0",
            "_view_name": "HTMLView",
            "description": "",
            "description_tooltip": null,
            "layout": "IPY_MODEL_eb8ef73b7ff94ff7877beb438ef94b14",
            "placeholder": "​",
            "style": "IPY_MODEL_b2e871c8b40c4ed3a9101d9dc4337ebf",
            "value": "tokenizer.json: 100%"
          }
        },
        "6c55d2b836324a23bfe3bcbae89ce8e8": {
          "model_module": "@jupyter-widgets/controls",
          "model_name": "FloatProgressModel",
          "model_module_version": "1.5.0",
          "state": {
            "_dom_classes": [],
            "_model_module": "@jupyter-widgets/controls",
            "_model_module_version": "1.5.0",
            "_model_name": "FloatProgressModel",
            "_view_count": null,
            "_view_module": "@jupyter-widgets/controls",
            "_view_module_version": "1.5.0",
            "_view_name": "ProgressView",
            "bar_style": "success",
            "description": "",
            "description_tooltip": null,
            "layout": "IPY_MODEL_b2c06a96aa6e4982a030018c53eeca1f",
            "max": 466062,
            "min": 0,
            "orientation": "horizontal",
            "style": "IPY_MODEL_0b60e97597e4494e8aa2d73b904501f7",
            "value": 466062
          }
        },
        "537542fc0fc54dce97f645082c20ff99": {
          "model_module": "@jupyter-widgets/controls",
          "model_name": "HTMLModel",
          "model_module_version": "1.5.0",
          "state": {
            "_dom_classes": [],
            "_model_module": "@jupyter-widgets/controls",
            "_model_module_version": "1.5.0",
            "_model_name": "HTMLModel",
            "_view_count": null,
            "_view_module": "@jupyter-widgets/controls",
            "_view_module_version": "1.5.0",
            "_view_name": "HTMLView",
            "description": "",
            "description_tooltip": null,
            "layout": "IPY_MODEL_88f12f7da5b542aabe92af87a9acb3d3",
            "placeholder": "​",
            "style": "IPY_MODEL_5afbcb1607794028b9162d7164824ef7",
            "value": " 466k/466k [00:00&lt;00:00, 1.87MB/s]"
          }
        },
        "da915d286a37424aba43ca86a4554ca3": {
          "model_module": "@jupyter-widgets/base",
          "model_name": "LayoutModel",
          "model_module_version": "1.2.0",
          "state": {
            "_model_module": "@jupyter-widgets/base",
            "_model_module_version": "1.2.0",
            "_model_name": "LayoutModel",
            "_view_count": null,
            "_view_module": "@jupyter-widgets/base",
            "_view_module_version": "1.2.0",
            "_view_name": "LayoutView",
            "align_content": null,
            "align_items": null,
            "align_self": null,
            "border": null,
            "bottom": null,
            "display": null,
            "flex": null,
            "flex_flow": null,
            "grid_area": null,
            "grid_auto_columns": null,
            "grid_auto_flow": null,
            "grid_auto_rows": null,
            "grid_column": null,
            "grid_gap": null,
            "grid_row": null,
            "grid_template_areas": null,
            "grid_template_columns": null,
            "grid_template_rows": null,
            "height": null,
            "justify_content": null,
            "justify_items": null,
            "left": null,
            "margin": null,
            "max_height": null,
            "max_width": null,
            "min_height": null,
            "min_width": null,
            "object_fit": null,
            "object_position": null,
            "order": null,
            "overflow": null,
            "overflow_x": null,
            "overflow_y": null,
            "padding": null,
            "right": null,
            "top": null,
            "visibility": null,
            "width": null
          }
        },
        "eb8ef73b7ff94ff7877beb438ef94b14": {
          "model_module": "@jupyter-widgets/base",
          "model_name": "LayoutModel",
          "model_module_version": "1.2.0",
          "state": {
            "_model_module": "@jupyter-widgets/base",
            "_model_module_version": "1.2.0",
            "_model_name": "LayoutModel",
            "_view_count": null,
            "_view_module": "@jupyter-widgets/base",
            "_view_module_version": "1.2.0",
            "_view_name": "LayoutView",
            "align_content": null,
            "align_items": null,
            "align_self": null,
            "border": null,
            "bottom": null,
            "display": null,
            "flex": null,
            "flex_flow": null,
            "grid_area": null,
            "grid_auto_columns": null,
            "grid_auto_flow": null,
            "grid_auto_rows": null,
            "grid_column": null,
            "grid_gap": null,
            "grid_row": null,
            "grid_template_areas": null,
            "grid_template_columns": null,
            "grid_template_rows": null,
            "height": null,
            "justify_content": null,
            "justify_items": null,
            "left": null,
            "margin": null,
            "max_height": null,
            "max_width": null,
            "min_height": null,
            "min_width": null,
            "object_fit": null,
            "object_position": null,
            "order": null,
            "overflow": null,
            "overflow_x": null,
            "overflow_y": null,
            "padding": null,
            "right": null,
            "top": null,
            "visibility": null,
            "width": null
          }
        },
        "b2e871c8b40c4ed3a9101d9dc4337ebf": {
          "model_module": "@jupyter-widgets/controls",
          "model_name": "DescriptionStyleModel",
          "model_module_version": "1.5.0",
          "state": {
            "_model_module": "@jupyter-widgets/controls",
            "_model_module_version": "1.5.0",
            "_model_name": "DescriptionStyleModel",
            "_view_count": null,
            "_view_module": "@jupyter-widgets/base",
            "_view_module_version": "1.2.0",
            "_view_name": "StyleView",
            "description_width": ""
          }
        },
        "b2c06a96aa6e4982a030018c53eeca1f": {
          "model_module": "@jupyter-widgets/base",
          "model_name": "LayoutModel",
          "model_module_version": "1.2.0",
          "state": {
            "_model_module": "@jupyter-widgets/base",
            "_model_module_version": "1.2.0",
            "_model_name": "LayoutModel",
            "_view_count": null,
            "_view_module": "@jupyter-widgets/base",
            "_view_module_version": "1.2.0",
            "_view_name": "LayoutView",
            "align_content": null,
            "align_items": null,
            "align_self": null,
            "border": null,
            "bottom": null,
            "display": null,
            "flex": null,
            "flex_flow": null,
            "grid_area": null,
            "grid_auto_columns": null,
            "grid_auto_flow": null,
            "grid_auto_rows": null,
            "grid_column": null,
            "grid_gap": null,
            "grid_row": null,
            "grid_template_areas": null,
            "grid_template_columns": null,
            "grid_template_rows": null,
            "height": null,
            "justify_content": null,
            "justify_items": null,
            "left": null,
            "margin": null,
            "max_height": null,
            "max_width": null,
            "min_height": null,
            "min_width": null,
            "object_fit": null,
            "object_position": null,
            "order": null,
            "overflow": null,
            "overflow_x": null,
            "overflow_y": null,
            "padding": null,
            "right": null,
            "top": null,
            "visibility": null,
            "width": null
          }
        },
        "0b60e97597e4494e8aa2d73b904501f7": {
          "model_module": "@jupyter-widgets/controls",
          "model_name": "ProgressStyleModel",
          "model_module_version": "1.5.0",
          "state": {
            "_model_module": "@jupyter-widgets/controls",
            "_model_module_version": "1.5.0",
            "_model_name": "ProgressStyleModel",
            "_view_count": null,
            "_view_module": "@jupyter-widgets/base",
            "_view_module_version": "1.2.0",
            "_view_name": "StyleView",
            "bar_color": null,
            "description_width": ""
          }
        },
        "88f12f7da5b542aabe92af87a9acb3d3": {
          "model_module": "@jupyter-widgets/base",
          "model_name": "LayoutModel",
          "model_module_version": "1.2.0",
          "state": {
            "_model_module": "@jupyter-widgets/base",
            "_model_module_version": "1.2.0",
            "_model_name": "LayoutModel",
            "_view_count": null,
            "_view_module": "@jupyter-widgets/base",
            "_view_module_version": "1.2.0",
            "_view_name": "LayoutView",
            "align_content": null,
            "align_items": null,
            "align_self": null,
            "border": null,
            "bottom": null,
            "display": null,
            "flex": null,
            "flex_flow": null,
            "grid_area": null,
            "grid_auto_columns": null,
            "grid_auto_flow": null,
            "grid_auto_rows": null,
            "grid_column": null,
            "grid_gap": null,
            "grid_row": null,
            "grid_template_areas": null,
            "grid_template_columns": null,
            "grid_template_rows": null,
            "height": null,
            "justify_content": null,
            "justify_items": null,
            "left": null,
            "margin": null,
            "max_height": null,
            "max_width": null,
            "min_height": null,
            "min_width": null,
            "object_fit": null,
            "object_position": null,
            "order": null,
            "overflow": null,
            "overflow_x": null,
            "overflow_y": null,
            "padding": null,
            "right": null,
            "top": null,
            "visibility": null,
            "width": null
          }
        },
        "5afbcb1607794028b9162d7164824ef7": {
          "model_module": "@jupyter-widgets/controls",
          "model_name": "DescriptionStyleModel",
          "model_module_version": "1.5.0",
          "state": {
            "_model_module": "@jupyter-widgets/controls",
            "_model_module_version": "1.5.0",
            "_model_name": "DescriptionStyleModel",
            "_view_count": null,
            "_view_module": "@jupyter-widgets/base",
            "_view_module_version": "1.2.0",
            "_view_name": "StyleView",
            "description_width": ""
          }
        },
        "67ac97257b4142d880c42fc4060888c9": {
          "model_module": "@jupyter-widgets/controls",
          "model_name": "HBoxModel",
          "model_module_version": "1.5.0",
          "state": {
            "_dom_classes": [],
            "_model_module": "@jupyter-widgets/controls",
            "_model_module_version": "1.5.0",
            "_model_name": "HBoxModel",
            "_view_count": null,
            "_view_module": "@jupyter-widgets/controls",
            "_view_module_version": "1.5.0",
            "_view_name": "HBoxView",
            "box_style": "",
            "children": [
              "IPY_MODEL_63bbc0a1d66441eaaf591ebcacdf87fe",
              "IPY_MODEL_6257df0f210543aaa784e242de82f47b",
              "IPY_MODEL_39421d698c4e42e88119b9da229f3fde"
            ],
            "layout": "IPY_MODEL_7af093b9398f416886c0d482409b339c"
          }
        },
        "63bbc0a1d66441eaaf591ebcacdf87fe": {
          "model_module": "@jupyter-widgets/controls",
          "model_name": "HTMLModel",
          "model_module_version": "1.5.0",
          "state": {
            "_dom_classes": [],
            "_model_module": "@jupyter-widgets/controls",
            "_model_module_version": "1.5.0",
            "_model_name": "HTMLModel",
            "_view_count": null,
            "_view_module": "@jupyter-widgets/controls",
            "_view_module_version": "1.5.0",
            "_view_name": "HTMLView",
            "description": "",
            "description_tooltip": null,
            "layout": "IPY_MODEL_b8c9efacdbef4936a14fefd01ab795d8",
            "placeholder": "​",
            "style": "IPY_MODEL_1d4faf96ddd341d5b47d327742d10070",
            "value": "config.json: 100%"
          }
        },
        "6257df0f210543aaa784e242de82f47b": {
          "model_module": "@jupyter-widgets/controls",
          "model_name": "FloatProgressModel",
          "model_module_version": "1.5.0",
          "state": {
            "_dom_classes": [],
            "_model_module": "@jupyter-widgets/controls",
            "_model_module_version": "1.5.0",
            "_model_name": "FloatProgressModel",
            "_view_count": null,
            "_view_module": "@jupyter-widgets/controls",
            "_view_module_version": "1.5.0",
            "_view_name": "ProgressView",
            "bar_style": "success",
            "description": "",
            "description_tooltip": null,
            "layout": "IPY_MODEL_b8177bddbdf34520947d4e35c3bf2edf",
            "max": 570,
            "min": 0,
            "orientation": "horizontal",
            "style": "IPY_MODEL_3dcf6c126f424f3da85d0a783160ac2a",
            "value": 570
          }
        },
        "39421d698c4e42e88119b9da229f3fde": {
          "model_module": "@jupyter-widgets/controls",
          "model_name": "HTMLModel",
          "model_module_version": "1.5.0",
          "state": {
            "_dom_classes": [],
            "_model_module": "@jupyter-widgets/controls",
            "_model_module_version": "1.5.0",
            "_model_name": "HTMLModel",
            "_view_count": null,
            "_view_module": "@jupyter-widgets/controls",
            "_view_module_version": "1.5.0",
            "_view_name": "HTMLView",
            "description": "",
            "description_tooltip": null,
            "layout": "IPY_MODEL_5750a2fe30c846c8b3b6f529755abf6b",
            "placeholder": "​",
            "style": "IPY_MODEL_da0eddd1fe4d4277b0fba1f0c86fc17d",
            "value": " 570/570 [00:00&lt;00:00, 4.96kB/s]"
          }
        },
        "7af093b9398f416886c0d482409b339c": {
          "model_module": "@jupyter-widgets/base",
          "model_name": "LayoutModel",
          "model_module_version": "1.2.0",
          "state": {
            "_model_module": "@jupyter-widgets/base",
            "_model_module_version": "1.2.0",
            "_model_name": "LayoutModel",
            "_view_count": null,
            "_view_module": "@jupyter-widgets/base",
            "_view_module_version": "1.2.0",
            "_view_name": "LayoutView",
            "align_content": null,
            "align_items": null,
            "align_self": null,
            "border": null,
            "bottom": null,
            "display": null,
            "flex": null,
            "flex_flow": null,
            "grid_area": null,
            "grid_auto_columns": null,
            "grid_auto_flow": null,
            "grid_auto_rows": null,
            "grid_column": null,
            "grid_gap": null,
            "grid_row": null,
            "grid_template_areas": null,
            "grid_template_columns": null,
            "grid_template_rows": null,
            "height": null,
            "justify_content": null,
            "justify_items": null,
            "left": null,
            "margin": null,
            "max_height": null,
            "max_width": null,
            "min_height": null,
            "min_width": null,
            "object_fit": null,
            "object_position": null,
            "order": null,
            "overflow": null,
            "overflow_x": null,
            "overflow_y": null,
            "padding": null,
            "right": null,
            "top": null,
            "visibility": null,
            "width": null
          }
        },
        "b8c9efacdbef4936a14fefd01ab795d8": {
          "model_module": "@jupyter-widgets/base",
          "model_name": "LayoutModel",
          "model_module_version": "1.2.0",
          "state": {
            "_model_module": "@jupyter-widgets/base",
            "_model_module_version": "1.2.0",
            "_model_name": "LayoutModel",
            "_view_count": null,
            "_view_module": "@jupyter-widgets/base",
            "_view_module_version": "1.2.0",
            "_view_name": "LayoutView",
            "align_content": null,
            "align_items": null,
            "align_self": null,
            "border": null,
            "bottom": null,
            "display": null,
            "flex": null,
            "flex_flow": null,
            "grid_area": null,
            "grid_auto_columns": null,
            "grid_auto_flow": null,
            "grid_auto_rows": null,
            "grid_column": null,
            "grid_gap": null,
            "grid_row": null,
            "grid_template_areas": null,
            "grid_template_columns": null,
            "grid_template_rows": null,
            "height": null,
            "justify_content": null,
            "justify_items": null,
            "left": null,
            "margin": null,
            "max_height": null,
            "max_width": null,
            "min_height": null,
            "min_width": null,
            "object_fit": null,
            "object_position": null,
            "order": null,
            "overflow": null,
            "overflow_x": null,
            "overflow_y": null,
            "padding": null,
            "right": null,
            "top": null,
            "visibility": null,
            "width": null
          }
        },
        "1d4faf96ddd341d5b47d327742d10070": {
          "model_module": "@jupyter-widgets/controls",
          "model_name": "DescriptionStyleModel",
          "model_module_version": "1.5.0",
          "state": {
            "_model_module": "@jupyter-widgets/controls",
            "_model_module_version": "1.5.0",
            "_model_name": "DescriptionStyleModel",
            "_view_count": null,
            "_view_module": "@jupyter-widgets/base",
            "_view_module_version": "1.2.0",
            "_view_name": "StyleView",
            "description_width": ""
          }
        },
        "b8177bddbdf34520947d4e35c3bf2edf": {
          "model_module": "@jupyter-widgets/base",
          "model_name": "LayoutModel",
          "model_module_version": "1.2.0",
          "state": {
            "_model_module": "@jupyter-widgets/base",
            "_model_module_version": "1.2.0",
            "_model_name": "LayoutModel",
            "_view_count": null,
            "_view_module": "@jupyter-widgets/base",
            "_view_module_version": "1.2.0",
            "_view_name": "LayoutView",
            "align_content": null,
            "align_items": null,
            "align_self": null,
            "border": null,
            "bottom": null,
            "display": null,
            "flex": null,
            "flex_flow": null,
            "grid_area": null,
            "grid_auto_columns": null,
            "grid_auto_flow": null,
            "grid_auto_rows": null,
            "grid_column": null,
            "grid_gap": null,
            "grid_row": null,
            "grid_template_areas": null,
            "grid_template_columns": null,
            "grid_template_rows": null,
            "height": null,
            "justify_content": null,
            "justify_items": null,
            "left": null,
            "margin": null,
            "max_height": null,
            "max_width": null,
            "min_height": null,
            "min_width": null,
            "object_fit": null,
            "object_position": null,
            "order": null,
            "overflow": null,
            "overflow_x": null,
            "overflow_y": null,
            "padding": null,
            "right": null,
            "top": null,
            "visibility": null,
            "width": null
          }
        },
        "3dcf6c126f424f3da85d0a783160ac2a": {
          "model_module": "@jupyter-widgets/controls",
          "model_name": "ProgressStyleModel",
          "model_module_version": "1.5.0",
          "state": {
            "_model_module": "@jupyter-widgets/controls",
            "_model_module_version": "1.5.0",
            "_model_name": "ProgressStyleModel",
            "_view_count": null,
            "_view_module": "@jupyter-widgets/base",
            "_view_module_version": "1.2.0",
            "_view_name": "StyleView",
            "bar_color": null,
            "description_width": ""
          }
        },
        "5750a2fe30c846c8b3b6f529755abf6b": {
          "model_module": "@jupyter-widgets/base",
          "model_name": "LayoutModel",
          "model_module_version": "1.2.0",
          "state": {
            "_model_module": "@jupyter-widgets/base",
            "_model_module_version": "1.2.0",
            "_model_name": "LayoutModel",
            "_view_count": null,
            "_view_module": "@jupyter-widgets/base",
            "_view_module_version": "1.2.0",
            "_view_name": "LayoutView",
            "align_content": null,
            "align_items": null,
            "align_self": null,
            "border": null,
            "bottom": null,
            "display": null,
            "flex": null,
            "flex_flow": null,
            "grid_area": null,
            "grid_auto_columns": null,
            "grid_auto_flow": null,
            "grid_auto_rows": null,
            "grid_column": null,
            "grid_gap": null,
            "grid_row": null,
            "grid_template_areas": null,
            "grid_template_columns": null,
            "grid_template_rows": null,
            "height": null,
            "justify_content": null,
            "justify_items": null,
            "left": null,
            "margin": null,
            "max_height": null,
            "max_width": null,
            "min_height": null,
            "min_width": null,
            "object_fit": null,
            "object_position": null,
            "order": null,
            "overflow": null,
            "overflow_x": null,
            "overflow_y": null,
            "padding": null,
            "right": null,
            "top": null,
            "visibility": null,
            "width": null
          }
        },
        "da0eddd1fe4d4277b0fba1f0c86fc17d": {
          "model_module": "@jupyter-widgets/controls",
          "model_name": "DescriptionStyleModel",
          "model_module_version": "1.5.0",
          "state": {
            "_model_module": "@jupyter-widgets/controls",
            "_model_module_version": "1.5.0",
            "_model_name": "DescriptionStyleModel",
            "_view_count": null,
            "_view_module": "@jupyter-widgets/base",
            "_view_module_version": "1.2.0",
            "_view_name": "StyleView",
            "description_width": ""
          }
        },
        "97e305b0af544ec39549ad17858f27b5": {
          "model_module": "@jupyter-widgets/controls",
          "model_name": "HBoxModel",
          "model_module_version": "1.5.0",
          "state": {
            "_dom_classes": [],
            "_model_module": "@jupyter-widgets/controls",
            "_model_module_version": "1.5.0",
            "_model_name": "HBoxModel",
            "_view_count": null,
            "_view_module": "@jupyter-widgets/controls",
            "_view_module_version": "1.5.0",
            "_view_name": "HBoxView",
            "box_style": "",
            "children": [
              "IPY_MODEL_55e5367df5764151957b545c1211ea17",
              "IPY_MODEL_d0c577c09f3d442195e98424269a98b0",
              "IPY_MODEL_8199ae2c35f5499fbc1c00a95dc7451e"
            ],
            "layout": "IPY_MODEL_5c09676860ef46e6a3ffe3f868d57908"
          }
        },
        "55e5367df5764151957b545c1211ea17": {
          "model_module": "@jupyter-widgets/controls",
          "model_name": "HTMLModel",
          "model_module_version": "1.5.0",
          "state": {
            "_dom_classes": [],
            "_model_module": "@jupyter-widgets/controls",
            "_model_module_version": "1.5.0",
            "_model_name": "HTMLModel",
            "_view_count": null,
            "_view_module": "@jupyter-widgets/controls",
            "_view_module_version": "1.5.0",
            "_view_name": "HTMLView",
            "description": "",
            "description_tooltip": null,
            "layout": "IPY_MODEL_99355ab573a2407aa4b765adc724b788",
            "placeholder": "​",
            "style": "IPY_MODEL_45c0abacde0b420ba1b3c18bf2bfce81",
            "value": "model.safetensors: 100%"
          }
        },
        "d0c577c09f3d442195e98424269a98b0": {
          "model_module": "@jupyter-widgets/controls",
          "model_name": "FloatProgressModel",
          "model_module_version": "1.5.0",
          "state": {
            "_dom_classes": [],
            "_model_module": "@jupyter-widgets/controls",
            "_model_module_version": "1.5.0",
            "_model_name": "FloatProgressModel",
            "_view_count": null,
            "_view_module": "@jupyter-widgets/controls",
            "_view_module_version": "1.5.0",
            "_view_name": "ProgressView",
            "bar_style": "success",
            "description": "",
            "description_tooltip": null,
            "layout": "IPY_MODEL_7e36295a2df04066b4a373f9f1191128",
            "max": 440449768,
            "min": 0,
            "orientation": "horizontal",
            "style": "IPY_MODEL_b222841728d045588b71ba374e779aa8",
            "value": 440449768
          }
        },
        "8199ae2c35f5499fbc1c00a95dc7451e": {
          "model_module": "@jupyter-widgets/controls",
          "model_name": "HTMLModel",
          "model_module_version": "1.5.0",
          "state": {
            "_dom_classes": [],
            "_model_module": "@jupyter-widgets/controls",
            "_model_module_version": "1.5.0",
            "_model_name": "HTMLModel",
            "_view_count": null,
            "_view_module": "@jupyter-widgets/controls",
            "_view_module_version": "1.5.0",
            "_view_name": "HTMLView",
            "description": "",
            "description_tooltip": null,
            "layout": "IPY_MODEL_0fc7741d6c774303981cf11638a01d3e",
            "placeholder": "​",
            "style": "IPY_MODEL_14739690ded54f6a901b93246c0c0ef4",
            "value": " 440M/440M [00:06&lt;00:00, 80.7MB/s]"
          }
        },
        "5c09676860ef46e6a3ffe3f868d57908": {
          "model_module": "@jupyter-widgets/base",
          "model_name": "LayoutModel",
          "model_module_version": "1.2.0",
          "state": {
            "_model_module": "@jupyter-widgets/base",
            "_model_module_version": "1.2.0",
            "_model_name": "LayoutModel",
            "_view_count": null,
            "_view_module": "@jupyter-widgets/base",
            "_view_module_version": "1.2.0",
            "_view_name": "LayoutView",
            "align_content": null,
            "align_items": null,
            "align_self": null,
            "border": null,
            "bottom": null,
            "display": null,
            "flex": null,
            "flex_flow": null,
            "grid_area": null,
            "grid_auto_columns": null,
            "grid_auto_flow": null,
            "grid_auto_rows": null,
            "grid_column": null,
            "grid_gap": null,
            "grid_row": null,
            "grid_template_areas": null,
            "grid_template_columns": null,
            "grid_template_rows": null,
            "height": null,
            "justify_content": null,
            "justify_items": null,
            "left": null,
            "margin": null,
            "max_height": null,
            "max_width": null,
            "min_height": null,
            "min_width": null,
            "object_fit": null,
            "object_position": null,
            "order": null,
            "overflow": null,
            "overflow_x": null,
            "overflow_y": null,
            "padding": null,
            "right": null,
            "top": null,
            "visibility": null,
            "width": null
          }
        },
        "99355ab573a2407aa4b765adc724b788": {
          "model_module": "@jupyter-widgets/base",
          "model_name": "LayoutModel",
          "model_module_version": "1.2.0",
          "state": {
            "_model_module": "@jupyter-widgets/base",
            "_model_module_version": "1.2.0",
            "_model_name": "LayoutModel",
            "_view_count": null,
            "_view_module": "@jupyter-widgets/base",
            "_view_module_version": "1.2.0",
            "_view_name": "LayoutView",
            "align_content": null,
            "align_items": null,
            "align_self": null,
            "border": null,
            "bottom": null,
            "display": null,
            "flex": null,
            "flex_flow": null,
            "grid_area": null,
            "grid_auto_columns": null,
            "grid_auto_flow": null,
            "grid_auto_rows": null,
            "grid_column": null,
            "grid_gap": null,
            "grid_row": null,
            "grid_template_areas": null,
            "grid_template_columns": null,
            "grid_template_rows": null,
            "height": null,
            "justify_content": null,
            "justify_items": null,
            "left": null,
            "margin": null,
            "max_height": null,
            "max_width": null,
            "min_height": null,
            "min_width": null,
            "object_fit": null,
            "object_position": null,
            "order": null,
            "overflow": null,
            "overflow_x": null,
            "overflow_y": null,
            "padding": null,
            "right": null,
            "top": null,
            "visibility": null,
            "width": null
          }
        },
        "45c0abacde0b420ba1b3c18bf2bfce81": {
          "model_module": "@jupyter-widgets/controls",
          "model_name": "DescriptionStyleModel",
          "model_module_version": "1.5.0",
          "state": {
            "_model_module": "@jupyter-widgets/controls",
            "_model_module_version": "1.5.0",
            "_model_name": "DescriptionStyleModel",
            "_view_count": null,
            "_view_module": "@jupyter-widgets/base",
            "_view_module_version": "1.2.0",
            "_view_name": "StyleView",
            "description_width": ""
          }
        },
        "7e36295a2df04066b4a373f9f1191128": {
          "model_module": "@jupyter-widgets/base",
          "model_name": "LayoutModel",
          "model_module_version": "1.2.0",
          "state": {
            "_model_module": "@jupyter-widgets/base",
            "_model_module_version": "1.2.0",
            "_model_name": "LayoutModel",
            "_view_count": null,
            "_view_module": "@jupyter-widgets/base",
            "_view_module_version": "1.2.0",
            "_view_name": "LayoutView",
            "align_content": null,
            "align_items": null,
            "align_self": null,
            "border": null,
            "bottom": null,
            "display": null,
            "flex": null,
            "flex_flow": null,
            "grid_area": null,
            "grid_auto_columns": null,
            "grid_auto_flow": null,
            "grid_auto_rows": null,
            "grid_column": null,
            "grid_gap": null,
            "grid_row": null,
            "grid_template_areas": null,
            "grid_template_columns": null,
            "grid_template_rows": null,
            "height": null,
            "justify_content": null,
            "justify_items": null,
            "left": null,
            "margin": null,
            "max_height": null,
            "max_width": null,
            "min_height": null,
            "min_width": null,
            "object_fit": null,
            "object_position": null,
            "order": null,
            "overflow": null,
            "overflow_x": null,
            "overflow_y": null,
            "padding": null,
            "right": null,
            "top": null,
            "visibility": null,
            "width": null
          }
        },
        "b222841728d045588b71ba374e779aa8": {
          "model_module": "@jupyter-widgets/controls",
          "model_name": "ProgressStyleModel",
          "model_module_version": "1.5.0",
          "state": {
            "_model_module": "@jupyter-widgets/controls",
            "_model_module_version": "1.5.0",
            "_model_name": "ProgressStyleModel",
            "_view_count": null,
            "_view_module": "@jupyter-widgets/base",
            "_view_module_version": "1.2.0",
            "_view_name": "StyleView",
            "bar_color": null,
            "description_width": ""
          }
        },
        "0fc7741d6c774303981cf11638a01d3e": {
          "model_module": "@jupyter-widgets/base",
          "model_name": "LayoutModel",
          "model_module_version": "1.2.0",
          "state": {
            "_model_module": "@jupyter-widgets/base",
            "_model_module_version": "1.2.0",
            "_model_name": "LayoutModel",
            "_view_count": null,
            "_view_module": "@jupyter-widgets/base",
            "_view_module_version": "1.2.0",
            "_view_name": "LayoutView",
            "align_content": null,
            "align_items": null,
            "align_self": null,
            "border": null,
            "bottom": null,
            "display": null,
            "flex": null,
            "flex_flow": null,
            "grid_area": null,
            "grid_auto_columns": null,
            "grid_auto_flow": null,
            "grid_auto_rows": null,
            "grid_column": null,
            "grid_gap": null,
            "grid_row": null,
            "grid_template_areas": null,
            "grid_template_columns": null,
            "grid_template_rows": null,
            "height": null,
            "justify_content": null,
            "justify_items": null,
            "left": null,
            "margin": null,
            "max_height": null,
            "max_width": null,
            "min_height": null,
            "min_width": null,
            "object_fit": null,
            "object_position": null,
            "order": null,
            "overflow": null,
            "overflow_x": null,
            "overflow_y": null,
            "padding": null,
            "right": null,
            "top": null,
            "visibility": null,
            "width": null
          }
        },
        "14739690ded54f6a901b93246c0c0ef4": {
          "model_module": "@jupyter-widgets/controls",
          "model_name": "DescriptionStyleModel",
          "model_module_version": "1.5.0",
          "state": {
            "_model_module": "@jupyter-widgets/controls",
            "_model_module_version": "1.5.0",
            "_model_name": "DescriptionStyleModel",
            "_view_count": null,
            "_view_module": "@jupyter-widgets/base",
            "_view_module_version": "1.2.0",
            "_view_name": "StyleView",
            "description_width": ""
          }
        }
      }
    }
  },
  "nbformat": 4,
  "nbformat_minor": 0
}